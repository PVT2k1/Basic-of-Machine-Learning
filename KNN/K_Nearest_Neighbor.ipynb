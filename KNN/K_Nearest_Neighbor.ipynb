{
  "nbformat": 4,
  "nbformat_minor": 0,
  "metadata": {
    "colab": {
      "name": "K_Nearest_Neighbor.ipynb",
      "provenance": [],
      "collapsed_sections": []
    },
    "kernelspec": {
      "name": "python3",
      "display_name": "Python 3"
    },
    "language_info": {
      "name": "python"
    },
    "gpuClass": "standard"
  },
  "cells": [
    {
      "cell_type": "markdown",
      "source": [
        "# Tính khoảng cách giữa mỗi điểm trong bộ dữ liệu A với mỗi điểm trong bộ dữ liệu B"
      ],
      "metadata": {
        "id": "eIdFC1cCL-4r"
      }
    },
    {
      "cell_type": "code",
      "execution_count": null,
      "metadata": {
        "id": "4PhHKC-4mHSD"
      },
      "outputs": [],
      "source": [
        "import numpy as np\n",
        "d, N = 10, 100\n",
        "X = np.random.randn(N, d) # Random by standard normal distribution\n",
        "z = np.random.randn(d)"
      ]
    },
    {
      "cell_type": "code",
      "source": [
        "# naively compute square distance between two vector\n",
        "def dist_pointPoint(x, z):\n",
        "  res = x -z.reshape(x.shape) # đưa z và x về cùng số chiều\n",
        "  return np.sum(d * d)"
      ],
      "metadata": {
        "id": "0u3SUjT8-wO8"
      },
      "execution_count": null,
      "outputs": []
    },
    {
      "cell_type": "code",
      "source": [
        "# from one point to each point in a set, fast\n",
        "def dist_pointSet(z, X):\n",
        "  # square of l2 norm of each X[i]\n",
        "  X2_norm = np.sum(X * X, 1)  # axis = 1, sum on each row\n",
        "  # square of l2 norm of each z\n",
        "  z2_norm = np.sum(z * z)\n",
        "  return X2_norm + z2_norm - 2 * X.dot(z)"
      ],
      "metadata": {
        "id": "PygSt1c7BX-7"
      },
      "execution_count": null,
      "outputs": []
    },
    {
      "cell_type": "code",
      "source": [
        "Z = np.random.randn(10, d)\n",
        "# from each point in one set to each point in another set\n",
        "def dist_setSet(Z, X):\n",
        "  X2_norm = np.sum(X * X, 1)\n",
        "  Z2_norm = np.sum(Z * Z, 1)\n",
        "  return Z2_norm.reshape(-1, 1) + X2_norm.reshape(1, -1) - 2*Z.dot(X.T)"
      ],
      "metadata": {
        "id": "77zD-BoLFn76"
      },
      "execution_count": null,
      "outputs": []
    },
    {
      "cell_type": "markdown",
      "source": [
        "# Practice in dataset Iris"
      ],
      "metadata": {
        "id": "d5OEdrbCPO7J"
      }
    },
    {
      "cell_type": "markdown",
      "source": [
        "1. Import neccessary libraries"
      ],
      "metadata": {
        "id": "wU4WYmy-rVCa"
      }
    },
    {
      "cell_type": "code",
      "source": [
        "import numpy as np\n",
        "from sklearn import neighbors, datasets\n",
        "from sklearn.model_selection import train_test_split\n",
        "from sklearn.metrics import accuracy_score"
      ],
      "metadata": {
        "id": "HliG8wHYPVj5"
      },
      "execution_count": null,
      "outputs": []
    },
    {
      "cell_type": "markdown",
      "source": [
        "2. Process data"
      ],
      "metadata": {
        "id": "qFrikelUrgKb"
      }
    },
    {
      "cell_type": "code",
      "source": [
        "iris = datasets.load_iris()\n",
        "iris_X = iris.data\n",
        "iris_y = iris.target\n",
        "print('Labels: ', np.unique(iris_y))\n",
        "\n",
        "# split train and test\n",
        "np.random.seed(8)\n",
        "X_train, X_test, y_train, y_test = train_test_split(iris_X, iris_y, test_size = 130)\n",
        "print('Training size:', X_train.shape[0], ', test_size:', X_test.shape[0])"
      ],
      "metadata": {
        "colab": {
          "base_uri": "https://localhost:8080/"
        },
        "id": "qCIM308jrL36",
        "outputId": "c391aa86-6aa8-46c6-85f4-9ff5b594f44d"
      },
      "execution_count": null,
      "outputs": [
        {
          "output_type": "stream",
          "name": "stdout",
          "text": [
            "Labels:  [0 1 2]\n",
            "Training size: 20 , test_size: 130\n"
          ]
        }
      ]
    },
    {
      "cell_type": "code",
      "source": [
        "# KNN (K = 1)\n",
        "model = neighbors.KNeighborsClassifier(n_neighbors = 1, p = 2)\n",
        "model.fit(X_train, y_train)\n",
        "y_pred = model.predict(X_test)\n",
        "print('Accuracy of 1NN: %.2f %%' %(100*accuracy_score(y_test, y_pred)))"
      ],
      "metadata": {
        "id": "zRbdaGZ4tAp7",
        "colab": {
          "base_uri": "https://localhost:8080/"
        },
        "outputId": "7b4dbd48-e90d-469c-c9d9-9ee5e81ca658"
      },
      "execution_count": null,
      "outputs": [
        {
          "output_type": "stream",
          "name": "stdout",
          "text": [
            "Accuracy of 1NN: 83.08 %\n"
          ]
        }
      ]
    },
    {
      "cell_type": "code",
      "source": [
        "# KNN (K = 5)\n",
        "model = neighbors.KNeighborsClassifier(n_neighbors = 5, p = 2)\n",
        "model.fit(X_train, y_train)\n",
        "y_pred = model.predict(X_test)\n",
        "print('Accuracy of 5NN: %.2f %%' %(100*accuracy_score(y_test, y_pred)))"
      ],
      "metadata": {
        "colab": {
          "base_uri": "https://localhost:8080/"
        },
        "id": "VUy0sh5mdfoe",
        "outputId": "bd09f085-e88e-418e-be56-abdb93bd2900"
      },
      "execution_count": null,
      "outputs": [
        {
          "output_type": "stream",
          "name": "stdout",
          "text": [
            "Accuracy of 5NN: 90.00 %\n"
          ]
        }
      ]
    }
  ]
}